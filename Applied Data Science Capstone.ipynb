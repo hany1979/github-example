{
    "cells": [
        {
            "metadata": {
                "collapsed": true
            },
            "cell_type": "markdown",
            "source": "# Explore and cluster the neighborhoods in Toronto:"
        },
        {
            "metadata": {},
            "cell_type": "code",
            "source": "# import required libraries \nimport pandas\nimport numpy as np\nimport requests\nfrom bs4 import BeautifulSoup\n\n# import data \nwebsite_text = requests.get('https://en.wikipedia.org/wiki/List_of_postal_codes_of_Canada:_M').text\nsoup = BeautifulSoup(website_text,'xml')\n\ntable = soup.find('table',{'class':'wikitable sortable'})\ntable_rows = table.find_all('tr')\n\ndata = []\nfor row in table_rows:\n    data.append([t.text.strip() for t in row.find_all('td')])\n\ndf = pandas.DataFrame(data, columns=['PostalCode', 'Borough', 'Neighbourhood'])\n\n# to filter out bad rows\ndf = df[~df['PostalCode'].isnull()]  \n\ndf.head(11)",
            "execution_count": 2,
            "outputs": [
                {
                    "output_type": "execute_result",
                    "execution_count": 2,
                    "data": {
                        "text/plain": "   PostalCode           Borough                                Neighbourhood\n1         M1A      Not assigned                                 Not assigned\n2         M2A      Not assigned                                 Not assigned\n3         M3A        North York                                    Parkwoods\n4         M4A        North York                             Victoria Village\n5         M5A  Downtown Toronto                    Regent Park, Harbourfront\n6         M6A        North York             Lawrence Manor, Lawrence Heights\n7         M7A  Downtown Toronto  Queen's Park, Ontario Provincial Government\n8         M8A      Not assigned                                 Not assigned\n9         M9A         Etobicoke      Islington Avenue, Humber Valley Village\n10        M1B       Scarborough                               Malvern, Rouge\n11        M2B      Not assigned                                 Not assigned",
                        "text/html": "<div>\n<style scoped>\n    .dataframe tbody tr th:only-of-type {\n        vertical-align: middle;\n    }\n\n    .dataframe tbody tr th {\n        vertical-align: top;\n    }\n\n    .dataframe thead th {\n        text-align: right;\n    }\n</style>\n<table border=\"1\" class=\"dataframe\">\n  <thead>\n    <tr style=\"text-align: right;\">\n      <th></th>\n      <th>PostalCode</th>\n      <th>Borough</th>\n      <th>Neighbourhood</th>\n    </tr>\n  </thead>\n  <tbody>\n    <tr>\n      <th>1</th>\n      <td>M1A</td>\n      <td>Not assigned</td>\n      <td>Not assigned</td>\n    </tr>\n    <tr>\n      <th>2</th>\n      <td>M2A</td>\n      <td>Not assigned</td>\n      <td>Not assigned</td>\n    </tr>\n    <tr>\n      <th>3</th>\n      <td>M3A</td>\n      <td>North York</td>\n      <td>Parkwoods</td>\n    </tr>\n    <tr>\n      <th>4</th>\n      <td>M4A</td>\n      <td>North York</td>\n      <td>Victoria Village</td>\n    </tr>\n    <tr>\n      <th>5</th>\n      <td>M5A</td>\n      <td>Downtown Toronto</td>\n      <td>Regent Park, Harbourfront</td>\n    </tr>\n    <tr>\n      <th>6</th>\n      <td>M6A</td>\n      <td>North York</td>\n      <td>Lawrence Manor, Lawrence Heights</td>\n    </tr>\n    <tr>\n      <th>7</th>\n      <td>M7A</td>\n      <td>Downtown Toronto</td>\n      <td>Queen's Park, Ontario Provincial Government</td>\n    </tr>\n    <tr>\n      <th>8</th>\n      <td>M8A</td>\n      <td>Not assigned</td>\n      <td>Not assigned</td>\n    </tr>\n    <tr>\n      <th>9</th>\n      <td>M9A</td>\n      <td>Etobicoke</td>\n      <td>Islington Avenue, Humber Valley Village</td>\n    </tr>\n    <tr>\n      <th>10</th>\n      <td>M1B</td>\n      <td>Scarborough</td>\n      <td>Malvern, Rouge</td>\n    </tr>\n    <tr>\n      <th>11</th>\n      <td>M2B</td>\n      <td>Not assigned</td>\n      <td>Not assigned</td>\n    </tr>\n  </tbody>\n</table>\n</div>"
                    },
                    "metadata": {}
                }
            ]
        },
        {
            "metadata": {
                "scrolled": true
            },
            "cell_type": "code",
            "source": "# replace \"Not assigned\" to NaN\ndf.replace(\"Not assigned\", np.nan, inplace = True)\n\n# drop whole row with NaN\ndf.dropna(subset=[\"Borough\", \"Neighbourhood\"], axis=0, inplace=True)\n\n# reset index\ndf.reset_index(drop=True, inplace=True)\n\ndf.head()",
            "execution_count": 3,
            "outputs": [
                {
                    "output_type": "execute_result",
                    "execution_count": 3,
                    "data": {
                        "text/plain": "  PostalCode           Borough                                Neighbourhood\n0        M3A        North York                                    Parkwoods\n1        M4A        North York                             Victoria Village\n2        M5A  Downtown Toronto                    Regent Park, Harbourfront\n3        M6A        North York             Lawrence Manor, Lawrence Heights\n4        M7A  Downtown Toronto  Queen's Park, Ontario Provincial Government",
                        "text/html": "<div>\n<style scoped>\n    .dataframe tbody tr th:only-of-type {\n        vertical-align: middle;\n    }\n\n    .dataframe tbody tr th {\n        vertical-align: top;\n    }\n\n    .dataframe thead th {\n        text-align: right;\n    }\n</style>\n<table border=\"1\" class=\"dataframe\">\n  <thead>\n    <tr style=\"text-align: right;\">\n      <th></th>\n      <th>PostalCode</th>\n      <th>Borough</th>\n      <th>Neighbourhood</th>\n    </tr>\n  </thead>\n  <tbody>\n    <tr>\n      <th>0</th>\n      <td>M3A</td>\n      <td>North York</td>\n      <td>Parkwoods</td>\n    </tr>\n    <tr>\n      <th>1</th>\n      <td>M4A</td>\n      <td>North York</td>\n      <td>Victoria Village</td>\n    </tr>\n    <tr>\n      <th>2</th>\n      <td>M5A</td>\n      <td>Downtown Toronto</td>\n      <td>Regent Park, Harbourfront</td>\n    </tr>\n    <tr>\n      <th>3</th>\n      <td>M6A</td>\n      <td>North York</td>\n      <td>Lawrence Manor, Lawrence Heights</td>\n    </tr>\n    <tr>\n      <th>4</th>\n      <td>M7A</td>\n      <td>Downtown Toronto</td>\n      <td>Queen's Park, Ontario Provincial Government</td>\n    </tr>\n  </tbody>\n</table>\n</div>"
                    },
                    "metadata": {}
                }
            ]
        },
        {
            "metadata": {},
            "cell_type": "code",
            "source": "# combined similar PostalCode \ndf= df.groupby('PostalCode').agg(lambda x: ','.join(x))\n\n#combined similar Borough\ndf.loc[df['Neighbourhood']==\"Not assigned\",'Neighbourhood']=df.loc[df['Neighbourhood']==\"Not assigned\",'Borough']\n\n# remove duplicate Borough\ndf['Borough']= df['Borough'].str.replace('nan|[{}\\s]','').str.split(',').apply(set).str.join(',').str.strip(',').str.replace(\",{2,}\",\",\")\n\n# reset index\ndf = df.reset_index()\n\ndf.head()",
            "execution_count": 4,
            "outputs": [
                {
                    "output_type": "execute_result",
                    "execution_count": 4,
                    "data": {
                        "text/plain": "  PostalCode      Borough                           Neighbourhood\n0        M1B  Scarborough                          Malvern, Rouge\n1        M1C  Scarborough  Rouge Hill, Port Union, Highland Creek\n2        M1E  Scarborough       Guildwood, Morningside, West Hill\n3        M1G  Scarborough                                  Woburn\n4        M1H  Scarborough                               Cedarbrae",
                        "text/html": "<div>\n<style scoped>\n    .dataframe tbody tr th:only-of-type {\n        vertical-align: middle;\n    }\n\n    .dataframe tbody tr th {\n        vertical-align: top;\n    }\n\n    .dataframe thead th {\n        text-align: right;\n    }\n</style>\n<table border=\"1\" class=\"dataframe\">\n  <thead>\n    <tr style=\"text-align: right;\">\n      <th></th>\n      <th>PostalCode</th>\n      <th>Borough</th>\n      <th>Neighbourhood</th>\n    </tr>\n  </thead>\n  <tbody>\n    <tr>\n      <th>0</th>\n      <td>M1B</td>\n      <td>Scarborough</td>\n      <td>Malvern, Rouge</td>\n    </tr>\n    <tr>\n      <th>1</th>\n      <td>M1C</td>\n      <td>Scarborough</td>\n      <td>Rouge Hill, Port Union, Highland Creek</td>\n    </tr>\n    <tr>\n      <th>2</th>\n      <td>M1E</td>\n      <td>Scarborough</td>\n      <td>Guildwood, Morningside, West Hill</td>\n    </tr>\n    <tr>\n      <th>3</th>\n      <td>M1G</td>\n      <td>Scarborough</td>\n      <td>Woburn</td>\n    </tr>\n    <tr>\n      <th>4</th>\n      <td>M1H</td>\n      <td>Scarborough</td>\n      <td>Cedarbrae</td>\n    </tr>\n  </tbody>\n</table>\n</div>"
                    },
                    "metadata": {}
                }
            ]
        },
        {
            "metadata": {},
            "cell_type": "code",
            "source": "df.shape",
            "execution_count": 5,
            "outputs": [
                {
                    "output_type": "execute_result",
                    "execution_count": 5,
                    "data": {
                        "text/plain": "(103, 3)"
                    },
                    "metadata": {}
                }
            ]
        },
        {
            "metadata": {
                "scrolled": true
            },
            "cell_type": "code",
            "source": "!pip install geocoder",
            "execution_count": 6,
            "outputs": [
                {
                    "output_type": "stream",
                    "text": "Collecting geocoder\n\u001b[?25l  Downloading https://files.pythonhosted.org/packages/4f/6b/13166c909ad2f2d76b929a4227c952630ebaf0d729f6317eb09cbceccbab/geocoder-1.38.1-py2.py3-none-any.whl (98kB)\n\u001b[K     |\u2588\u2588\u2588\u2588\u2588\u2588\u2588\u2588\u2588\u2588\u2588\u2588\u2588\u2588\u2588\u2588\u2588\u2588\u2588\u2588\u2588\u2588\u2588\u2588\u2588\u2588\u2588\u2588\u2588\u2588\u2588\u2588| 102kB 8.7MB/s ta 0:00:011\n\u001b[?25hRequirement already satisfied: requests in /opt/conda/envs/Python36/lib/python3.6/site-packages (from geocoder) (2.21.0)\nRequirement already satisfied: click in /opt/conda/envs/Python36/lib/python3.6/site-packages (from geocoder) (7.0)\nCollecting ratelim (from geocoder)\n  Downloading https://files.pythonhosted.org/packages/f2/98/7e6d147fd16a10a5f821db6e25f192265d6ecca3d82957a4fdd592cad49c/ratelim-0.1.6-py2.py3-none-any.whl\nRequirement already satisfied: future in /opt/conda/envs/Python36/lib/python3.6/site-packages (from geocoder) (0.17.1)\nRequirement already satisfied: six in /opt/conda/envs/Python36/lib/python3.6/site-packages (from geocoder) (1.12.0)\nRequirement already satisfied: urllib3<1.25,>=1.21.1 in /opt/conda/envs/Python36/lib/python3.6/site-packages (from requests->geocoder) (1.24.1)\nRequirement already satisfied: chardet<3.1.0,>=3.0.2 in /opt/conda/envs/Python36/lib/python3.6/site-packages (from requests->geocoder) (3.0.4)\nRequirement already satisfied: certifi>=2017.4.17 in /opt/conda/envs/Python36/lib/python3.6/site-packages (from requests->geocoder) (2020.6.20)\nRequirement already satisfied: idna<2.9,>=2.5 in /opt/conda/envs/Python36/lib/python3.6/site-packages (from requests->geocoder) (2.8)\nRequirement already satisfied: decorator in /opt/conda/envs/Python36/lib/python3.6/site-packages (from ratelim->geocoder) (4.3.2)\nInstalling collected packages: ratelim, geocoder\nSuccessfully installed geocoder-1.38.1 ratelim-0.1.6\n",
                    "name": "stdout"
                }
            ]
        },
        {
            "metadata": {},
            "cell_type": "code",
            "source": "import geocoder\ndef get_latilong(postal_code):\n    lati_long_coords = None\n    while(lati_long_coords is None):\n        g = geocoder.arcgis('{}, Toronto, Ontario'.format(postal_code))\n        lati_long_coords = g.latlng\n    return lati_long_coords\n    \nget_latilong('M4G')",
            "execution_count": 8,
            "outputs": [
                {
                    "output_type": "execute_result",
                    "execution_count": 8,
                    "data": {
                        "text/plain": "[43.70909000000006, -79.36409999999995]"
                    },
                    "metadata": {}
                }
            ]
        },
        {
            "metadata": {},
            "cell_type": "code",
            "source": "# Retrieving Postal Code Co-ordinates\npostal_codes = df['PostalCode']    \ncoords = [ get_latilong(postal_code) for postal_code in postal_codes.tolist() ]",
            "execution_count": 12,
            "outputs": []
        },
        {
            "metadata": {},
            "cell_type": "code",
            "source": "# Adding Columns Latitude & Longitude\nimport pandas as pd\ndf1 = pd.DataFrame(coords, columns=['Latitude', 'Longitude'])\ndf['Latitude'] = df1['Latitude']\ndf['Longitude'] = df1['Longitude']",
            "execution_count": 20,
            "outputs": []
        },
        {
            "metadata": {},
            "cell_type": "code",
            "source": "df[df.PostalCode == 'M5G']",
            "execution_count": 22,
            "outputs": [
                {
                    "output_type": "execute_result",
                    "execution_count": 22,
                    "data": {
                        "text/plain": "   PostalCode          Borough       Neighbourhood  Latitude  Longitude\n57        M5G  DowntownToronto  Central Bay Street  43.65609  -79.38493",
                        "text/html": "<div>\n<style scoped>\n    .dataframe tbody tr th:only-of-type {\n        vertical-align: middle;\n    }\n\n    .dataframe tbody tr th {\n        vertical-align: top;\n    }\n\n    .dataframe thead th {\n        text-align: right;\n    }\n</style>\n<table border=\"1\" class=\"dataframe\">\n  <thead>\n    <tr style=\"text-align: right;\">\n      <th></th>\n      <th>PostalCode</th>\n      <th>Borough</th>\n      <th>Neighbourhood</th>\n      <th>Latitude</th>\n      <th>Longitude</th>\n    </tr>\n  </thead>\n  <tbody>\n    <tr>\n      <th>57</th>\n      <td>M5G</td>\n      <td>DowntownToronto</td>\n      <td>Central Bay Street</td>\n      <td>43.65609</td>\n      <td>-79.38493</td>\n    </tr>\n  </tbody>\n</table>\n</div>"
                    },
                    "metadata": {}
                }
            ]
        },
        {
            "metadata": {},
            "cell_type": "code",
            "source": "df.head(15)",
            "execution_count": 23,
            "outputs": [
                {
                    "output_type": "execute_result",
                    "execution_count": 23,
                    "data": {
                        "text/plain": "   PostalCode      Borough                                      Neighbourhood  \\\n0         M1B  Scarborough                                     Malvern, Rouge   \n1         M1C  Scarborough             Rouge Hill, Port Union, Highland Creek   \n2         M1E  Scarborough                  Guildwood, Morningside, West Hill   \n3         M1G  Scarborough                                             Woburn   \n4         M1H  Scarborough                                          Cedarbrae   \n5         M1J  Scarborough                                Scarborough Village   \n6         M1K  Scarborough        Kennedy Park, Ionview, East Birchmount Park   \n7         M1L  Scarborough                    Golden Mile, Clairlea, Oakridge   \n8         M1M  Scarborough    Cliffside, Cliffcrest, Scarborough Village West   \n9         M1N  Scarborough                        Birch Cliff, Cliffside West   \n10        M1P  Scarborough  Dorset Park, Wexford Heights, Scarborough Town...   \n11        M1R  Scarborough                                  Wexford, Maryvale   \n12        M1S  Scarborough                                          Agincourt   \n13        M1T  Scarborough            Clarks Corners, Tam O'Shanter, Sullivan   \n14        M1V  Scarborough  Milliken, Agincourt North, Steeles East, L'Amo...   \n\n    Latitude  Longitude  \n0   43.81153  -79.19552  \n1   43.78564  -79.15871  \n2   43.76575  -79.17520  \n3   43.76820  -79.21761  \n4   43.76969  -79.23944  \n5   43.74309  -79.23526  \n6   43.72861  -79.26367  \n7   43.71406  -79.28412  \n8   43.72360  -79.23496  \n9   43.69539  -79.26194  \n10  43.75998  -79.26837  \n11  43.75071  -79.30056  \n12  43.79394  -79.26711  \n13  43.78473  -79.29937  \n14  43.81781  -79.28024  ",
                        "text/html": "<div>\n<style scoped>\n    .dataframe tbody tr th:only-of-type {\n        vertical-align: middle;\n    }\n\n    .dataframe tbody tr th {\n        vertical-align: top;\n    }\n\n    .dataframe thead th {\n        text-align: right;\n    }\n</style>\n<table border=\"1\" class=\"dataframe\">\n  <thead>\n    <tr style=\"text-align: right;\">\n      <th></th>\n      <th>PostalCode</th>\n      <th>Borough</th>\n      <th>Neighbourhood</th>\n      <th>Latitude</th>\n      <th>Longitude</th>\n    </tr>\n  </thead>\n  <tbody>\n    <tr>\n      <th>0</th>\n      <td>M1B</td>\n      <td>Scarborough</td>\n      <td>Malvern, Rouge</td>\n      <td>43.81153</td>\n      <td>-79.19552</td>\n    </tr>\n    <tr>\n      <th>1</th>\n      <td>M1C</td>\n      <td>Scarborough</td>\n      <td>Rouge Hill, Port Union, Highland Creek</td>\n      <td>43.78564</td>\n      <td>-79.15871</td>\n    </tr>\n    <tr>\n      <th>2</th>\n      <td>M1E</td>\n      <td>Scarborough</td>\n      <td>Guildwood, Morningside, West Hill</td>\n      <td>43.76575</td>\n      <td>-79.17520</td>\n    </tr>\n    <tr>\n      <th>3</th>\n      <td>M1G</td>\n      <td>Scarborough</td>\n      <td>Woburn</td>\n      <td>43.76820</td>\n      <td>-79.21761</td>\n    </tr>\n    <tr>\n      <th>4</th>\n      <td>M1H</td>\n      <td>Scarborough</td>\n      <td>Cedarbrae</td>\n      <td>43.76969</td>\n      <td>-79.23944</td>\n    </tr>\n    <tr>\n      <th>5</th>\n      <td>M1J</td>\n      <td>Scarborough</td>\n      <td>Scarborough Village</td>\n      <td>43.74309</td>\n      <td>-79.23526</td>\n    </tr>\n    <tr>\n      <th>6</th>\n      <td>M1K</td>\n      <td>Scarborough</td>\n      <td>Kennedy Park, Ionview, East Birchmount Park</td>\n      <td>43.72861</td>\n      <td>-79.26367</td>\n    </tr>\n    <tr>\n      <th>7</th>\n      <td>M1L</td>\n      <td>Scarborough</td>\n      <td>Golden Mile, Clairlea, Oakridge</td>\n      <td>43.71406</td>\n      <td>-79.28412</td>\n    </tr>\n    <tr>\n      <th>8</th>\n      <td>M1M</td>\n      <td>Scarborough</td>\n      <td>Cliffside, Cliffcrest, Scarborough Village West</td>\n      <td>43.72360</td>\n      <td>-79.23496</td>\n    </tr>\n    <tr>\n      <th>9</th>\n      <td>M1N</td>\n      <td>Scarborough</td>\n      <td>Birch Cliff, Cliffside West</td>\n      <td>43.69539</td>\n      <td>-79.26194</td>\n    </tr>\n    <tr>\n      <th>10</th>\n      <td>M1P</td>\n      <td>Scarborough</td>\n      <td>Dorset Park, Wexford Heights, Scarborough Town...</td>\n      <td>43.75998</td>\n      <td>-79.26837</td>\n    </tr>\n    <tr>\n      <th>11</th>\n      <td>M1R</td>\n      <td>Scarborough</td>\n      <td>Wexford, Maryvale</td>\n      <td>43.75071</td>\n      <td>-79.30056</td>\n    </tr>\n    <tr>\n      <th>12</th>\n      <td>M1S</td>\n      <td>Scarborough</td>\n      <td>Agincourt</td>\n      <td>43.79394</td>\n      <td>-79.26711</td>\n    </tr>\n    <tr>\n      <th>13</th>\n      <td>M1T</td>\n      <td>Scarborough</td>\n      <td>Clarks Corners, Tam O'Shanter, Sullivan</td>\n      <td>43.78473</td>\n      <td>-79.29937</td>\n    </tr>\n    <tr>\n      <th>14</th>\n      <td>M1V</td>\n      <td>Scarborough</td>\n      <td>Milliken, Agincourt North, Steeles East, L'Amo...</td>\n      <td>43.81781</td>\n      <td>-79.28024</td>\n    </tr>\n  </tbody>\n</table>\n</div>"
                    },
                    "metadata": {}
                }
            ]
        },
        {
            "metadata": {},
            "cell_type": "code",
            "source": "",
            "execution_count": null,
            "outputs": []
        },
        {
            "metadata": {},
            "cell_type": "code",
            "source": "import pandas as pd\ndf1 = pd.read_csv('Geospatial_Coordinates.csv')\ndf2 = \ndf1.head()",
            "execution_count": 29,
            "outputs": [
                {
                    "output_type": "execute_result",
                    "execution_count": 29,
                    "data": {
                        "text/plain": "   Unnamed: 0 PostalCode      Borough                           Neighbourhood\n0           0        M1B  Scarborough                          Malvern, Rouge\n1           1        M1C  Scarborough  Rouge Hill, Port Union, Highland Creek\n2           2        M1E  Scarborough       Guildwood, Morningside, West Hill\n3           3        M1G  Scarborough                                  Woburn\n4           4        M1H  Scarborough                               Cedarbrae",
                        "text/html": "<div>\n<style scoped>\n    .dataframe tbody tr th:only-of-type {\n        vertical-align: middle;\n    }\n\n    .dataframe tbody tr th {\n        vertical-align: top;\n    }\n\n    .dataframe thead th {\n        text-align: right;\n    }\n</style>\n<table border=\"1\" class=\"dataframe\">\n  <thead>\n    <tr style=\"text-align: right;\">\n      <th></th>\n      <th>Unnamed: 0</th>\n      <th>PostalCode</th>\n      <th>Borough</th>\n      <th>Neighbourhood</th>\n    </tr>\n  </thead>\n  <tbody>\n    <tr>\n      <th>0</th>\n      <td>0</td>\n      <td>M1B</td>\n      <td>Scarborough</td>\n      <td>Malvern, Rouge</td>\n    </tr>\n    <tr>\n      <th>1</th>\n      <td>1</td>\n      <td>M1C</td>\n      <td>Scarborough</td>\n      <td>Rouge Hill, Port Union, Highland Creek</td>\n    </tr>\n    <tr>\n      <th>2</th>\n      <td>2</td>\n      <td>M1E</td>\n      <td>Scarborough</td>\n      <td>Guildwood, Morningside, West Hill</td>\n    </tr>\n    <tr>\n      <th>3</th>\n      <td>3</td>\n      <td>M1G</td>\n      <td>Scarborough</td>\n      <td>Woburn</td>\n    </tr>\n    <tr>\n      <th>4</th>\n      <td>4</td>\n      <td>M1H</td>\n      <td>Scarborough</td>\n      <td>Cedarbrae</td>\n    </tr>\n  </tbody>\n</table>\n</div>"
                    },
                    "metadata": {}
                }
            ]
        },
        {
            "metadata": {},
            "cell_type": "code",
            "source": "# Get the latitude and the longitude coordinates of each neighborhood\ndf1 = df.to_csv('Geospatial_Coordinates.csv')\ndf1",
            "execution_count": 27,
            "outputs": []
        },
        {
            "metadata": {},
            "cell_type": "code",
            "source": "import csv\n\nwith open('Geospatial_Coordinates.csv') as csvfile:\n     reader = csv.DictReader(csvfile)\n     for row in reader:\n         print(row['PostalCode'],row['Borough'], row['Neighbourhood'])",
            "execution_count": 28,
            "outputs": [
                {
                    "output_type": "stream",
                    "text": "M1B Scarborough Malvern, Rouge\nM1C Scarborough Rouge Hill, Port Union, Highland Creek\nM1E Scarborough Guildwood, Morningside, West Hill\nM1G Scarborough Woburn\nM1H Scarborough Cedarbrae\nM1J Scarborough Scarborough Village\nM1K Scarborough Kennedy Park, Ionview, East Birchmount Park\nM1L Scarborough Golden Mile, Clairlea, Oakridge\nM1M Scarborough Cliffside, Cliffcrest, Scarborough Village West\nM1N Scarborough Birch Cliff, Cliffside West\nM1P Scarborough Dorset Park, Wexford Heights, Scarborough Town Centre\nM1R Scarborough Wexford, Maryvale\nM1S Scarborough Agincourt\nM1T Scarborough Clarks Corners, Tam O'Shanter, Sullivan\nM1V Scarborough Milliken, Agincourt North, Steeles East, L'Amoreaux East\nM1W Scarborough Steeles West, L'Amoreaux West\nM1X Scarborough Upper Rouge\nM2H NorthYork Hillcrest Village\nM2J NorthYork Fairview, Henry Farm, Oriole\nM2K NorthYork Bayview Village\nM2L NorthYork York Mills, Silver Hills\nM2M NorthYork Willowdale, Newtonbrook\nM2N NorthYork Willowdale, Willowdale East\nM2P NorthYork York Mills West\nM2R NorthYork Willowdale, Willowdale West\nM3A NorthYork Parkwoods\nM3B NorthYork Don Mills\nM3C NorthYork Don Mills\nM3H NorthYork Bathurst Manor, Wilson Heights, Downsview North\nM3J NorthYork Northwood Park, York University\nM3K NorthYork Downsview\nM3L NorthYork Downsview\nM3M NorthYork Downsview\nM3N NorthYork Downsview\nM4A NorthYork Victoria Village\nM4B EastYork Parkview Hill, Woodbine Gardens\nM4C EastYork Woodbine Heights\nM4E EastToronto The Beaches\nM4G EastYork Leaside\nM4H EastYork Thorncliffe Park\nM4J EastYork East Toronto, Broadview North (Old East York)\nM4K EastToronto The Danforth West, Riverdale\nM4L EastToronto India Bazaar, The Beaches West\nM4M EastToronto Studio District\nM4N CentralToronto Lawrence Park\nM4P CentralToronto Davisville North\nM4R CentralToronto North Toronto West,  Lawrence Park\nM4S CentralToronto Davisville\nM4T CentralToronto Moore Park, Summerhill East\nM4V CentralToronto Summerhill West, Rathnelly, South Hill, Forest Hill SE, Deer Park\nM4W DowntownToronto Rosedale\nM4X DowntownToronto St. James Town, Cabbagetown\nM4Y DowntownToronto Church and Wellesley\nM5A DowntownToronto Regent Park, Harbourfront\nM5B DowntownToronto Garden District, Ryerson\nM5C DowntownToronto St. James Town\nM5E DowntownToronto Berczy Park\nM5G DowntownToronto Central Bay Street\nM5H DowntownToronto Richmond, Adelaide, King\nM5J DowntownToronto Harbourfront East, Union Station, Toronto Islands\nM5K DowntownToronto Toronto Dominion Centre, Design Exchange\nM5L DowntownToronto Commerce Court, Victoria Hotel\nM5M NorthYork Bedford Park, Lawrence Manor East\nM5N CentralToronto Roselawn\nM5P CentralToronto Forest Hill North & West, Forest Hill Road Park\nM5R CentralToronto The Annex, North Midtown, Yorkville\nM5S DowntownToronto University of Toronto, Harbord\nM5T DowntownToronto Kensington Market, Chinatown, Grange Park\nM5V DowntownToronto CN Tower, King and Spadina, Railway Lands, Harbourfront West, Bathurst Quay, South Niagara, Island airport\nM5W DowntownToronto Stn A PO Boxes\nM5X DowntownToronto First Canadian Place, Underground city\nM6A NorthYork Lawrence Manor, Lawrence Heights\nM6B NorthYork Glencairn\nM6C York Humewood-Cedarvale\nM6E York Caledonia-Fairbanks\nM6G DowntownToronto Christie\nM6H WestToronto Dufferin, Dovercourt Village\nM6J WestToronto Little Portugal, Trinity\nM6K WestToronto Brockton, Parkdale Village, Exhibition Place\nM6L NorthYork North Park, Maple Leaf Park, Upwood Park\nM6M York Del Ray, Mount Dennis, Keelsdale and Silverthorn\nM6N York Runnymede, The Junction North\nM6P WestToronto High Park, The Junction South\nM6R WestToronto Parkdale, Roncesvalles\nM6S WestToronto Runnymede, Swansea\nM7A DowntownToronto Queen's Park, Ontario Provincial Government\nM7R Mississauga Canada Post Gateway Processing Centre\nM7Y EastToronto Business reply mail Processing Centre, South Central Letter Processing Plant Toronto\nM8V Etobicoke New Toronto, Mimico South, Humber Bay Shores\nM8W Etobicoke Alderwood, Long Branch\nM8X Etobicoke The Kingsway, Montgomery Road, Old Mill North\nM8Y Etobicoke Old Mill South, King's Mill Park, Sunnylea, Humber Bay, Mimico NE, The Queensway East, Royal York South East, Kingsway Park South East\nM8Z Etobicoke Mimico NW, The Queensway West, South of Bloor, Kingsway Park South West, Royal York South West\nM9A Etobicoke Islington Avenue, Humber Valley Village\nM9B Etobicoke West Deane Park, Princess Gardens, Martin Grove, Islington, Cloverdale\nM9C Etobicoke Eringate, Bloordale Gardens, Old Burnhamthorpe, Markland Wood\nM9L NorthYork Humber Summit\nM9M NorthYork Humberlea, Emery\nM9N York Weston\nM9P Etobicoke Westmount\nM9R Etobicoke Kingsview Village, St. Phillips, Martin Grove Gardens, Richview Gardens\nM9V Etobicoke South Steeles, Silverstone, Humbergate, Jamestown, Mount Olive, Beaumond Heights, Thistletown, Albion Gardens\nM9W Etobicoke Northwest, West Humber - Clairville\n",
                    "name": "stdout"
                }
            ]
        },
        {
            "metadata": {},
            "cell_type": "code",
            "source": "from  geopy.geocoders import Nominatim\ngeolocator = Nominatim()\nlocation = geolocator.geocode(\"M1G, Scarborough, Woburn\")\nprint(location.address)\n\nprint((location.latitude, location.longitude))\n\nprint(location.raw)",
            "execution_count": 52,
            "outputs": [
                {
                    "output_type": "stream",
                    "text": "/opt/conda/envs/Python36/lib/python3.6/site-packages/ipykernel/__main__.py:2: DeprecationWarning: Using Nominatim with the default \"geopy/1.18.1\" `user_agent` is strongly discouraged, as it violates Nominatim's ToS https://operations.osmfoundation.org/policies/nominatim/ and may possibly cause 403 and 429 HTTP errors. Please specify a custom `user_agent` with `Nominatim(user_agent=\"my-application\")` or by overriding the default `user_agent`: `geopy.geocoders.options.default_user_agent = \"my-application\"`. In geopy 2.0 this will become an exception.\n  from ipykernel import kernelapp as app\n",
                    "name": "stderr"
                },
                {
                    "output_type": "stream",
                    "text": "Woburn, Scarborough\u2014Guildwood, Scarborough, Toronto, Golden Horseshoe, Ontario, M1H 2A2, Canada\n(43.7598243, -79.2252908)\n{'place_id': 4761941, 'licence': 'Data \u00a9 OpenStreetMap contributors, ODbL 1.0. https://osm.org/copyright', 'osm_type': 'node', 'osm_id': 558715617, 'boundingbox': ['43.7498243', '43.7698243', '-79.2352908', '-79.2152908'], 'lat': '43.7598243', 'lon': '-79.2252908', 'display_name': 'Woburn, Scarborough\u2014Guildwood, Scarborough, Toronto, Golden Horseshoe, Ontario, M1H 2A2, Canada', 'class': 'place', 'type': 'neighbourhood', 'importance': 0.5588036674790013}\n",
                    "name": "stdout"
                }
            ]
        },
        {
            "metadata": {},
            "cell_type": "code",
            "source": "",
            "execution_count": null,
            "outputs": []
        }
    ],
    "metadata": {
        "kernelspec": {
            "name": "python3",
            "display_name": "Python 3.6",
            "language": "python"
        },
        "language_info": {
            "name": "python",
            "version": "3.6.9",
            "mimetype": "text/x-python",
            "codemirror_mode": {
                "name": "ipython",
                "version": 3
            },
            "pygments_lexer": "ipython3",
            "nbconvert_exporter": "python",
            "file_extension": ".py"
        }
    },
    "nbformat": 4,
    "nbformat_minor": 1
}